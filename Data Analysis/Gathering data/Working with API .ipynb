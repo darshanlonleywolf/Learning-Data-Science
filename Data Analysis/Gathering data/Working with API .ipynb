{
 "cells": [
  {
   "cell_type": "code",
   "execution_count": null,
   "id": "7d390d59",
   "metadata": {},
   "outputs": [],
   "source": [
    "import pandas as pd\n",
    "import numpy as np\n",
    "import requests"
   ]
  },
  {
   "cell_type": "code",
   "execution_count": null,
   "id": "636602ef",
   "metadata": {},
   "outputs": [],
   "source": [
    "response =requests.get('https://api.themoviedb.org/3/tv/popular?api_key=4b63febfa9089e4b4f50c1420e14a853&language=en-US&page=1')"
   ]
  },
  {
   "cell_type": "code",
   "execution_count": null,
   "id": "8d76c8d2",
   "metadata": {},
   "outputs": [],
   "source": [
    "j=response.json()\n",
    "j"
   ]
  },
  {
   "cell_type": "code",
   "execution_count": null,
   "id": "89e04332",
   "metadata": {},
   "outputs": [],
   "source": [
    "df=pd.DataFrame(j['results'])[['id','name','original_language','first_air_date','vote_average']]\n",
    "df"
   ]
  },
  {
   "cell_type": "code",
   "execution_count": null,
   "id": "e150563f",
   "metadata": {},
   "outputs": [],
   "source": [
    "#to get this data from all the pages we will run the loops\n",
    "\n",
    "final=pd.DataFrame()\n",
    "for i in range(1,4000):\n",
    "    r =requests.get('https://api.themoviedb.org/3/tv/popular?api_key=4b63febfa9089e4b4f50c1420e14a853&language=en-US&page={}'.format(i))\n",
    "    tdf=pd.DataFrame(r.json()['results'])[['id','name','original_language','first_air_date','vote_average']]\n",
    "    final=final.append(tdf, ignore_index=True)\n",
    "    "
   ]
  },
  {
   "cell_type": "code",
   "execution_count": null,
   "id": "7c7fcabf",
   "metadata": {},
   "outputs": [],
   "source": [
    "final.shape"
   ]
  },
  {
   "cell_type": "code",
   "execution_count": 54,
   "id": "70e3ac93",
   "metadata": {},
   "outputs": [],
   "source": [
    "#using concat function\n",
    "final=pd.DataFrame()\n",
    "for i in range(1,40):\n",
    "    r =requests.get('https://api.themoviedb.org/3/tv/popular?api_key=4b63febfa9089e4b4f50c1420e14a853&language=en-US&page={}'.format(i))\n",
    "    tdf=pd.DataFrame(r.json()['results'])[['id','name','original_language','first_air_date','vote_average']]\n",
    "    final=pd.concat([final,tdf])"
   ]
  },
  {
   "cell_type": "code",
   "execution_count": 57,
   "id": "1a480e70",
   "metadata": {},
   "outputs": [],
   "source": [
    "final.to_csv('top_shows_webseries.csv',encoding='utf-8')"
   ]
  },
  {
   "cell_type": "code",
   "execution_count": 55,
   "id": "4e308f20",
   "metadata": {},
   "outputs": [
    {
     "data": {
      "text/html": [
       "<div>\n",
       "<style scoped>\n",
       "    .dataframe tbody tr th:only-of-type {\n",
       "        vertical-align: middle;\n",
       "    }\n",
       "\n",
       "    .dataframe tbody tr th {\n",
       "        vertical-align: top;\n",
       "    }\n",
       "\n",
       "    .dataframe thead th {\n",
       "        text-align: right;\n",
       "    }\n",
       "</style>\n",
       "<table border=\"1\" class=\"dataframe\">\n",
       "  <thead>\n",
       "    <tr style=\"text-align: right;\">\n",
       "      <th></th>\n",
       "      <th>id</th>\n",
       "      <th>name</th>\n",
       "      <th>original_language</th>\n",
       "      <th>first_air_date</th>\n",
       "      <th>vote_average</th>\n",
       "    </tr>\n",
       "  </thead>\n",
       "  <tbody>\n",
       "    <tr>\n",
       "      <th>0</th>\n",
       "      <td>90802</td>\n",
       "      <td>The Sandman</td>\n",
       "      <td>en</td>\n",
       "      <td>2022-08-05</td>\n",
       "      <td>8.2</td>\n",
       "    </tr>\n",
       "    <tr>\n",
       "      <th>1</th>\n",
       "      <td>90521</td>\n",
       "      <td>Love Island</td>\n",
       "      <td>en</td>\n",
       "      <td>2019-07-09</td>\n",
       "      <td>7.1</td>\n",
       "    </tr>\n",
       "    <tr>\n",
       "      <th>2</th>\n",
       "      <td>66732</td>\n",
       "      <td>Stranger Things</td>\n",
       "      <td>en</td>\n",
       "      <td>2016-07-15</td>\n",
       "      <td>8.6</td>\n",
       "    </tr>\n",
       "    <tr>\n",
       "      <th>3</th>\n",
       "      <td>135647</td>\n",
       "      <td>2 Good 2 Be True</td>\n",
       "      <td>tl</td>\n",
       "      <td>2022-05-16</td>\n",
       "      <td>7.4</td>\n",
       "    </tr>\n",
       "    <tr>\n",
       "      <th>4</th>\n",
       "      <td>91759</td>\n",
       "      <td>Come Home Love: Lo and Behold</td>\n",
       "      <td>cn</td>\n",
       "      <td>2017-02-20</td>\n",
       "      <td>8.0</td>\n",
       "    </tr>\n",
       "    <tr>\n",
       "      <th>...</th>\n",
       "      <td>...</td>\n",
       "      <td>...</td>\n",
       "      <td>...</td>\n",
       "      <td>...</td>\n",
       "      <td>...</td>\n",
       "    </tr>\n",
       "    <tr>\n",
       "      <th>15</th>\n",
       "      <td>115694</td>\n",
       "      <td>Shikimori's Not Just a Cutie</td>\n",
       "      <td>ja</td>\n",
       "      <td>2022-04-10</td>\n",
       "      <td>7.6</td>\n",
       "    </tr>\n",
       "    <tr>\n",
       "      <th>16</th>\n",
       "      <td>1930</td>\n",
       "      <td>The Beverly Hillbillies</td>\n",
       "      <td>en</td>\n",
       "      <td>1962-09-26</td>\n",
       "      <td>7.1</td>\n",
       "    </tr>\n",
       "    <tr>\n",
       "      <th>17</th>\n",
       "      <td>197064</td>\n",
       "      <td>Never Give Up</td>\n",
       "      <td>ko</td>\n",
       "      <td>2022-05-04</td>\n",
       "      <td>4.3</td>\n",
       "    </tr>\n",
       "    <tr>\n",
       "      <th>18</th>\n",
       "      <td>202985</td>\n",
       "      <td>Minato's Laundromat: Wash My Heart!</td>\n",
       "      <td>ja</td>\n",
       "      <td>2022-06-29</td>\n",
       "      <td>0.0</td>\n",
       "    </tr>\n",
       "    <tr>\n",
       "      <th>19</th>\n",
       "      <td>94796</td>\n",
       "      <td>Crash Landing on You</td>\n",
       "      <td>ko</td>\n",
       "      <td>2019-12-14</td>\n",
       "      <td>8.8</td>\n",
       "    </tr>\n",
       "  </tbody>\n",
       "</table>\n",
       "<p>780 rows × 5 columns</p>\n",
       "</div>"
      ],
      "text/plain": [
       "        id                                 name original_language  \\\n",
       "0    90802                          The Sandman                en   \n",
       "1    90521                          Love Island                en   \n",
       "2    66732                      Stranger Things                en   \n",
       "3   135647                     2 Good 2 Be True                tl   \n",
       "4    91759        Come Home Love: Lo and Behold                cn   \n",
       "..     ...                                  ...               ...   \n",
       "15  115694         Shikimori's Not Just a Cutie                ja   \n",
       "16    1930              The Beverly Hillbillies                en   \n",
       "17  197064                        Never Give Up                ko   \n",
       "18  202985  Minato's Laundromat: Wash My Heart!                ja   \n",
       "19   94796                 Crash Landing on You                ko   \n",
       "\n",
       "   first_air_date  vote_average  \n",
       "0      2022-08-05           8.2  \n",
       "1      2019-07-09           7.1  \n",
       "2      2016-07-15           8.6  \n",
       "3      2022-05-16           7.4  \n",
       "4      2017-02-20           8.0  \n",
       "..            ...           ...  \n",
       "15     2022-04-10           7.6  \n",
       "16     1962-09-26           7.1  \n",
       "17     2022-05-04           4.3  \n",
       "18     2022-06-29           0.0  \n",
       "19     2019-12-14           8.8  \n",
       "\n",
       "[780 rows x 5 columns]"
      ]
     },
     "execution_count": 55,
     "metadata": {},
     "output_type": "execute_result"
    }
   ],
   "source": [
    "final"
   ]
  },
  {
   "cell_type": "code",
   "execution_count": null,
   "id": "91b95e10",
   "metadata": {},
   "outputs": [],
   "source": []
  },
  {
   "cell_type": "code",
   "execution_count": null,
   "id": "6629d08f",
   "metadata": {},
   "outputs": [],
   "source": []
  }
 ],
 "metadata": {
  "kernelspec": {
   "display_name": "Python 3 (ipykernel)",
   "language": "python",
   "name": "python3"
  },
  "language_info": {
   "codemirror_mode": {
    "name": "ipython",
    "version": 3
   },
   "file_extension": ".py",
   "mimetype": "text/x-python",
   "name": "python",
   "nbconvert_exporter": "python",
   "pygments_lexer": "ipython3",
   "version": "3.9.12"
  }
 },
 "nbformat": 4,
 "nbformat_minor": 5
}
