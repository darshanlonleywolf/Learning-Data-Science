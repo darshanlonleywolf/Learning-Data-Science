{
 "cells": [
  {
   "cell_type": "code",
   "execution_count": 1,
   "id": "3bcc1b77",
   "metadata": {},
   "outputs": [],
   "source": [
    "import pandas as pd"
   ]
  },
  {
   "cell_type": "code",
   "execution_count": 2,
   "id": "e3525fb0",
   "metadata": {},
   "outputs": [],
   "source": [
    "df=pd.read_csv('titanic.txt')"
   ]
  },
  {
   "cell_type": "code",
   "execution_count": 3,
   "id": "58b8c212",
   "metadata": {},
   "outputs": [],
   "source": [
    "from pandas_profiling import ProfileReport"
   ]
  },
  {
   "cell_type": "code",
   "execution_count": 4,
   "id": "b59b8194",
   "metadata": {},
   "outputs": [
    {
     "data": {
      "application/vnd.jupyter.widget-view+json": {
       "model_id": "738e53f1c0504a95aae96d508743bf59",
       "version_major": 2,
       "version_minor": 0
      },
      "text/plain": [
       "Summarize dataset:   0%|          | 0/5 [00:00<?, ?it/s]"
      ]
     },
     "metadata": {},
     "output_type": "display_data"
    },
    {
     "data": {
      "application/vnd.jupyter.widget-view+json": {
       "model_id": "6a52acb5a6884246bc0809392c8fe76d",
       "version_major": 2,
       "version_minor": 0
      },
      "text/plain": [
       "Generate report structure:   0%|          | 0/1 [00:00<?, ?it/s]"
      ]
     },
     "metadata": {},
     "output_type": "display_data"
    },
    {
     "data": {
      "application/vnd.jupyter.widget-view+json": {
       "model_id": "162a7414f9b44106b4e6547c2c4e3fc4",
       "version_major": 2,
       "version_minor": 0
      },
      "text/plain": [
       "Render HTML:   0%|          | 0/1 [00:00<?, ?it/s]"
      ]
     },
     "metadata": {},
     "output_type": "display_data"
    },
    {
     "data": {
      "application/vnd.jupyter.widget-view+json": {
       "model_id": "fe981276fcb143c2849d9488a0eba283",
       "version_major": 2,
       "version_minor": 0
      },
      "text/plain": [
       "Export report to file:   0%|          | 0/1 [00:00<?, ?it/s]"
      ]
     },
     "metadata": {},
     "output_type": "display_data"
    }
   ],
   "source": [
    "#below two lines are the code which gives the html file with complete EDA of titanic data set\n",
    "\n",
    "prof=ProfileReport(df)\n",
    "prof.to_file(output_file='output.html')"
   ]
  },
  {
   "cell_type": "code",
   "execution_count": 7,
   "id": "ef2d35ef",
   "metadata": {},
   "outputs": [],
   "source": [
    "c=pd.read_csv('Monthly_Food_Retail_Prices.csv')"
   ]
  },
  {
   "cell_type": "code",
   "execution_count": 8,
   "id": "b944da8e",
   "metadata": {},
   "outputs": [
    {
     "data": {
      "text/html": [
       "<div>\n",
       "<style scoped>\n",
       "    .dataframe tbody tr th:only-of-type {\n",
       "        vertical-align: middle;\n",
       "    }\n",
       "\n",
       "    .dataframe tbody tr th {\n",
       "        vertical-align: top;\n",
       "    }\n",
       "\n",
       "    .dataframe thead th {\n",
       "        text-align: right;\n",
       "    }\n",
       "</style>\n",
       "<table border=\"1\" class=\"dataframe\">\n",
       "  <thead>\n",
       "    <tr style=\"text-align: right;\">\n",
       "      <th></th>\n",
       "      <th>State</th>\n",
       "      <th>Centre</th>\n",
       "      <th>Commodity</th>\n",
       "      <th>Variety</th>\n",
       "      <th>Unit</th>\n",
       "      <th>Category</th>\n",
       "      <th>Date</th>\n",
       "      <th>Retail Price</th>\n",
       "    </tr>\n",
       "  </thead>\n",
       "  <tbody>\n",
       "    <tr>\n",
       "      <th>216434</th>\n",
       "      <td>Karnataka</td>\n",
       "      <td>Hubli</td>\n",
       "      <td>Rice</td>\n",
       "      <td>Common/Coarse</td>\n",
       "      <td>Kg.</td>\n",
       "      <td>Food</td>\n",
       "      <td>MAY-2015</td>\n",
       "      <td>30.0</td>\n",
       "    </tr>\n",
       "    <tr>\n",
       "      <th>497328</th>\n",
       "      <td>Sikkim</td>\n",
       "      <td>Gangtok</td>\n",
       "      <td>Milk</td>\n",
       "      <td>Cow/Buffalo</td>\n",
       "      <td>Litre</td>\n",
       "      <td>Food</td>\n",
       "      <td>SEP-2006</td>\n",
       "      <td>NaN</td>\n",
       "    </tr>\n",
       "    <tr>\n",
       "      <th>363215</th>\n",
       "      <td>West Bengal</td>\n",
       "      <td>Asansol</td>\n",
       "      <td>Atta</td>\n",
       "      <td>FAQ</td>\n",
       "      <td>Kg.</td>\n",
       "      <td>Food</td>\n",
       "      <td>MAY-2009</td>\n",
       "      <td>12.5</td>\n",
       "    </tr>\n",
       "    <tr>\n",
       "      <th>278942</th>\n",
       "      <td>Uttar Pradesh</td>\n",
       "      <td>Allahabad</td>\n",
       "      <td>Potato</td>\n",
       "      <td>FAQ</td>\n",
       "      <td>Kg.</td>\n",
       "      <td>Food</td>\n",
       "      <td>JUL-2019</td>\n",
       "      <td>18.0</td>\n",
       "    </tr>\n",
       "    <tr>\n",
       "      <th>618502</th>\n",
       "      <td>Kerala</td>\n",
       "      <td>Ernakulam</td>\n",
       "      <td>Maida</td>\n",
       "      <td>NaN</td>\n",
       "      <td>Kg.</td>\n",
       "      <td>Food</td>\n",
       "      <td>APR-2020</td>\n",
       "      <td>42.0</td>\n",
       "    </tr>\n",
       "  </tbody>\n",
       "</table>\n",
       "</div>"
      ],
      "text/plain": [
       "                State     Centre Commodity        Variety   Unit Category  \\\n",
       "216434      Karnataka      Hubli      Rice  Common/Coarse    Kg.     Food   \n",
       "497328         Sikkim    Gangtok      Milk    Cow/Buffalo  Litre     Food   \n",
       "363215    West Bengal    Asansol      Atta            FAQ    Kg.     Food   \n",
       "278942  Uttar Pradesh  Allahabad    Potato            FAQ    Kg.     Food   \n",
       "618502         Kerala  Ernakulam     Maida            NaN    Kg.     Food   \n",
       "\n",
       "            Date  Retail Price  \n",
       "216434  MAY-2015          30.0  \n",
       "497328  SEP-2006           NaN  \n",
       "363215  MAY-2009          12.5  \n",
       "278942  JUL-2019          18.0  \n",
       "618502  APR-2020          42.0  "
      ]
     },
     "execution_count": 8,
     "metadata": {},
     "output_type": "execute_result"
    }
   ],
   "source": [
    "c.sample(5)"
   ]
  },
  {
   "cell_type": "code",
   "execution_count": 20,
   "id": "14bbfda8",
   "metadata": {},
   "outputs": [
    {
     "data": {
      "text/html": [
       "<div>\n",
       "<style scoped>\n",
       "    .dataframe tbody tr th:only-of-type {\n",
       "        vertical-align: middle;\n",
       "    }\n",
       "\n",
       "    .dataframe tbody tr th {\n",
       "        vertical-align: top;\n",
       "    }\n",
       "\n",
       "    .dataframe thead th {\n",
       "        text-align: right;\n",
       "    }\n",
       "</style>\n",
       "<table border=\"1\" class=\"dataframe\">\n",
       "  <thead>\n",
       "    <tr style=\"text-align: right;\">\n",
       "      <th></th>\n",
       "      <th>State</th>\n",
       "      <th>Centre</th>\n",
       "      <th>Commodity</th>\n",
       "      <th>Variety</th>\n",
       "      <th>Unit</th>\n",
       "      <th>Category</th>\n",
       "      <th>Date</th>\n",
       "      <th>Retail Price</th>\n",
       "    </tr>\n",
       "  </thead>\n",
       "  <tbody>\n",
       "    <tr>\n",
       "      <th>925009</th>\n",
       "      <td>Himachal Pradesh</td>\n",
       "      <td>Shimla</td>\n",
       "      <td>Chicken</td>\n",
       "      <td>Poultry</td>\n",
       "      <td>Kg.</td>\n",
       "      <td>Food</td>\n",
       "      <td>APR-2011</td>\n",
       "      <td>NaN</td>\n",
       "    </tr>\n",
       "    <tr>\n",
       "      <th>886750</th>\n",
       "      <td>Madhya Pradesh</td>\n",
       "      <td>Bhopal</td>\n",
       "      <td>Chicken</td>\n",
       "      <td>Poultry</td>\n",
       "      <td>Kg.</td>\n",
       "      <td>Food</td>\n",
       "      <td>JUN-2007</td>\n",
       "      <td>72.0</td>\n",
       "    </tr>\n",
       "    <tr>\n",
       "      <th>1013196</th>\n",
       "      <td>Gujarat</td>\n",
       "      <td>Surat</td>\n",
       "      <td>Chicken</td>\n",
       "      <td>Poultry</td>\n",
       "      <td>Kg.</td>\n",
       "      <td>Food</td>\n",
       "      <td>FEB-2020</td>\n",
       "      <td>250.0</td>\n",
       "    </tr>\n",
       "    <tr>\n",
       "      <th>825194</th>\n",
       "      <td>Mizoram</td>\n",
       "      <td>Aizwal</td>\n",
       "      <td>Chicken</td>\n",
       "      <td>Poultry</td>\n",
       "      <td>Kg.</td>\n",
       "      <td>Food</td>\n",
       "      <td>APR-2001</td>\n",
       "      <td>110.0</td>\n",
       "    </tr>\n",
       "    <tr>\n",
       "      <th>908367</th>\n",
       "      <td>Haryana</td>\n",
       "      <td>Karnal</td>\n",
       "      <td>Chicken</td>\n",
       "      <td>Poultry</td>\n",
       "      <td>Kg.</td>\n",
       "      <td>Food</td>\n",
       "      <td>AUG-2009</td>\n",
       "      <td>100.0</td>\n",
       "    </tr>\n",
       "  </tbody>\n",
       "</table>\n",
       "</div>"
      ],
      "text/plain": [
       "                    State  Centre Commodity  Variety Unit Category      Date  \\\n",
       "925009   Himachal Pradesh  Shimla   Chicken  Poultry  Kg.     Food  APR-2011   \n",
       "886750     Madhya Pradesh  Bhopal   Chicken  Poultry  Kg.     Food  JUN-2007   \n",
       "1013196           Gujarat   Surat   Chicken  Poultry  Kg.     Food  FEB-2020   \n",
       "825194            Mizoram  Aizwal   Chicken  Poultry  Kg.     Food  APR-2001   \n",
       "908367            Haryana  Karnal   Chicken  Poultry  Kg.     Food  AUG-2009   \n",
       "\n",
       "         Retail Price  \n",
       "925009            NaN  \n",
       "886750           72.0  \n",
       "1013196         250.0  \n",
       "825194          110.0  \n",
       "908367          100.0  "
      ]
     },
     "execution_count": 20,
     "metadata": {},
     "output_type": "execute_result"
    }
   ],
   "source": [
    "ch=c[c['Commodity']=='Chicken']\n",
    "ch.sample(5)"
   ]
  },
  {
   "cell_type": "code",
   "execution_count": 22,
   "id": "356a5fb4",
   "metadata": {},
   "outputs": [],
   "source": [
    "chicken=ch.iloc[:,[0,1,6,7]]"
   ]
  },
  {
   "cell_type": "code",
   "execution_count": 33,
   "id": "9d28cdf3",
   "metadata": {},
   "outputs": [],
   "source": [
    "chi=chicken[chicken['State']=='Karnataka'].reset_index()"
   ]
  },
  {
   "cell_type": "code",
   "execution_count": 34,
   "id": "4c290a8e",
   "metadata": {},
   "outputs": [
    {
     "data": {
      "application/vnd.jupyter.widget-view+json": {
       "model_id": "4f47ee138d4343ed9e2282c3019114ba",
       "version_major": 2,
       "version_minor": 0
      },
      "text/plain": [
       "Summarize dataset:   0%|          | 0/5 [00:00<?, ?it/s]"
      ]
     },
     "metadata": {},
     "output_type": "display_data"
    },
    {
     "data": {
      "application/vnd.jupyter.widget-view+json": {
       "model_id": "681953fdcea349da82629a4963deb67c",
       "version_major": 2,
       "version_minor": 0
      },
      "text/plain": [
       "Generate report structure:   0%|          | 0/1 [00:00<?, ?it/s]"
      ]
     },
     "metadata": {},
     "output_type": "display_data"
    },
    {
     "data": {
      "application/vnd.jupyter.widget-view+json": {
       "model_id": "89c619b699c94382b69bf75bf8c68f1c",
       "version_major": 2,
       "version_minor": 0
      },
      "text/plain": [
       "Render HTML:   0%|          | 0/1 [00:00<?, ?it/s]"
      ]
     },
     "metadata": {},
     "output_type": "display_data"
    },
    {
     "data": {
      "application/vnd.jupyter.widget-view+json": {
       "model_id": "ae62aa00aa524d58803b79a3ea233c7e",
       "version_major": 2,
       "version_minor": 0
      },
      "text/plain": [
       "Export report to file:   0%|          | 0/1 [00:00<?, ?it/s]"
      ]
     },
     "metadata": {},
     "output_type": "display_data"
    }
   ],
   "source": [
    "prof=ProfileReport(chi)\n",
    "prof.to_file(output_file='output.html')"
   ]
  },
  {
   "cell_type": "code",
   "execution_count": 35,
   "id": "a495d17f",
   "metadata": {},
   "outputs": [
    {
     "data": {
      "text/html": [
       "<div>\n",
       "<style scoped>\n",
       "    .dataframe tbody tr th:only-of-type {\n",
       "        vertical-align: middle;\n",
       "    }\n",
       "\n",
       "    .dataframe tbody tr th {\n",
       "        vertical-align: top;\n",
       "    }\n",
       "\n",
       "    .dataframe thead th {\n",
       "        text-align: right;\n",
       "    }\n",
       "</style>\n",
       "<table border=\"1\" class=\"dataframe\">\n",
       "  <thead>\n",
       "    <tr style=\"text-align: right;\">\n",
       "      <th></th>\n",
       "      <th>level_0</th>\n",
       "      <th>df_index</th>\n",
       "      <th>State</th>\n",
       "      <th>Centre</th>\n",
       "      <th>Date</th>\n",
       "      <th>Retail Price</th>\n",
       "    </tr>\n",
       "  </thead>\n",
       "  <tbody>\n",
       "    <tr>\n",
       "      <th>0</th>\n",
       "      <td>26</td>\n",
       "      <td>822678</td>\n",
       "      <td>Karnataka</td>\n",
       "      <td>Bangalore</td>\n",
       "      <td>JAN-2001</td>\n",
       "      <td>60.0</td>\n",
       "    </tr>\n",
       "    <tr>\n",
       "      <th>1</th>\n",
       "      <td>27</td>\n",
       "      <td>822679</td>\n",
       "      <td>Karnataka</td>\n",
       "      <td>Bijapur</td>\n",
       "      <td>JAN-2001</td>\n",
       "      <td>NaN</td>\n",
       "    </tr>\n",
       "    <tr>\n",
       "      <th>2</th>\n",
       "      <td>28</td>\n",
       "      <td>822680</td>\n",
       "      <td>Karnataka</td>\n",
       "      <td>Hubli</td>\n",
       "      <td>JAN-2001</td>\n",
       "      <td>NaN</td>\n",
       "    </tr>\n",
       "    <tr>\n",
       "      <th>3</th>\n",
       "      <td>29</td>\n",
       "      <td>822681</td>\n",
       "      <td>Karnataka</td>\n",
       "      <td>Tumkur</td>\n",
       "      <td>JAN-2001</td>\n",
       "      <td>55.0</td>\n",
       "    </tr>\n",
       "    <tr>\n",
       "      <th>4</th>\n",
       "      <td>110</td>\n",
       "      <td>823510</td>\n",
       "      <td>Karnataka</td>\n",
       "      <td>Bangalore</td>\n",
       "      <td>FEB-2001</td>\n",
       "      <td>60.0</td>\n",
       "    </tr>\n",
       "    <tr>\n",
       "      <th>...</th>\n",
       "      <td>...</td>\n",
       "      <td>...</td>\n",
       "      <td>...</td>\n",
       "      <td>...</td>\n",
       "      <td>...</td>\n",
       "      <td>...</td>\n",
       "    </tr>\n",
       "    <tr>\n",
       "      <th>967</th>\n",
       "      <td>20273</td>\n",
       "      <td>1023193</td>\n",
       "      <td>Karnataka</td>\n",
       "      <td>Tumkur</td>\n",
       "      <td>FEB-2021</td>\n",
       "      <td>NaN</td>\n",
       "    </tr>\n",
       "    <tr>\n",
       "      <th>968</th>\n",
       "      <td>20354</td>\n",
       "      <td>1024022</td>\n",
       "      <td>Karnataka</td>\n",
       "      <td>Bangalore</td>\n",
       "      <td>MAR-2021</td>\n",
       "      <td>220.0</td>\n",
       "    </tr>\n",
       "    <tr>\n",
       "      <th>969</th>\n",
       "      <td>20355</td>\n",
       "      <td>1024023</td>\n",
       "      <td>Karnataka</td>\n",
       "      <td>Bijapur</td>\n",
       "      <td>MAR-2021</td>\n",
       "      <td>NaN</td>\n",
       "    </tr>\n",
       "    <tr>\n",
       "      <th>970</th>\n",
       "      <td>20356</td>\n",
       "      <td>1024024</td>\n",
       "      <td>Karnataka</td>\n",
       "      <td>Hubli</td>\n",
       "      <td>MAR-2021</td>\n",
       "      <td>NaN</td>\n",
       "    </tr>\n",
       "    <tr>\n",
       "      <th>971</th>\n",
       "      <td>20357</td>\n",
       "      <td>1024025</td>\n",
       "      <td>Karnataka</td>\n",
       "      <td>Tumkur</td>\n",
       "      <td>MAR-2021</td>\n",
       "      <td>NaN</td>\n",
       "    </tr>\n",
       "  </tbody>\n",
       "</table>\n",
       "<p>972 rows × 6 columns</p>\n",
       "</div>"
      ],
      "text/plain": [
       "     level_0  df_index      State     Centre      Date  Retail Price\n",
       "0         26    822678  Karnataka  Bangalore  JAN-2001          60.0\n",
       "1         27    822679  Karnataka    Bijapur  JAN-2001           NaN\n",
       "2         28    822680  Karnataka      Hubli  JAN-2001           NaN\n",
       "3         29    822681  Karnataka     Tumkur  JAN-2001          55.0\n",
       "4        110    823510  Karnataka  Bangalore  FEB-2001          60.0\n",
       "..       ...       ...        ...        ...       ...           ...\n",
       "967    20273   1023193  Karnataka     Tumkur  FEB-2021           NaN\n",
       "968    20354   1024022  Karnataka  Bangalore  MAR-2021         220.0\n",
       "969    20355   1024023  Karnataka    Bijapur  MAR-2021           NaN\n",
       "970    20356   1024024  Karnataka      Hubli  MAR-2021           NaN\n",
       "971    20357   1024025  Karnataka     Tumkur  MAR-2021           NaN\n",
       "\n",
       "[972 rows x 6 columns]"
      ]
     },
     "execution_count": 35,
     "metadata": {},
     "output_type": "execute_result"
    }
   ],
   "source": [
    "chi"
   ]
  },
  {
   "cell_type": "code",
   "execution_count": null,
   "id": "3521826e",
   "metadata": {},
   "outputs": [],
   "source": []
  }
 ],
 "metadata": {
  "kernelspec": {
   "display_name": "Python 3 (ipykernel)",
   "language": "python",
   "name": "python3"
  },
  "language_info": {
   "codemirror_mode": {
    "name": "ipython",
    "version": 3
   },
   "file_extension": ".py",
   "mimetype": "text/x-python",
   "name": "python",
   "nbconvert_exporter": "python",
   "pygments_lexer": "ipython3",
   "version": "3.9.12"
  }
 },
 "nbformat": 4,
 "nbformat_minor": 5
}
