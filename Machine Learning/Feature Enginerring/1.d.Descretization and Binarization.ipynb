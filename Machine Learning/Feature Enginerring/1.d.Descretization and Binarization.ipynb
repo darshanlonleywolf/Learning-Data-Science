{
 "cells": [
  {
   "cell_type": "markdown",
   "id": "750ee52d",
   "metadata": {},
   "source": [
    "## 1.Discretization/Binning\n",
    " Binning is a way to group a number of more or less continuous values into a smaller number of \"bins\"\n",
    "#### Types (most commonly used)\n",
    "* equal width binning (uniform)\n",
    "* equal frequency binning (quantile)\n",
    "* Kmeans binning\n",
    "* Dission tree binning\n",
    "* custom/domain based binning (it is type of binning where we can create our own conditions of ranges of bins,this need to do on owr own, we dont have any libary for this)"
   ]
  },
  {
   "cell_type": "code",
   "execution_count": 186,
   "id": "389fdb84",
   "metadata": {},
   "outputs": [],
   "source": [
    "import pandas as pd\n",
    "import numpy as np\n",
    "\n",
    "from sklearn.model_selection import train_test_split\n",
    "from sklearn.model_selection import cross_val_score\n",
    "from sklearn.metrics import accuracy_score\n",
    "from sklearn.tree import DecisionTreeClassifier\n",
    "from sklearn.compose import ColumnTransformer\n",
    "from sklearn.preprocessing import KBinsDiscretizer\n"
   ]
  },
  {
   "cell_type": "code",
   "execution_count": 187,
   "id": "b561676a",
   "metadata": {},
   "outputs": [
    {
     "data": {
      "text/html": [
       "<div>\n",
       "<style scoped>\n",
       "    .dataframe tbody tr th:only-of-type {\n",
       "        vertical-align: middle;\n",
       "    }\n",
       "\n",
       "    .dataframe tbody tr th {\n",
       "        vertical-align: top;\n",
       "    }\n",
       "\n",
       "    .dataframe thead th {\n",
       "        text-align: right;\n",
       "    }\n",
       "</style>\n",
       "<table border=\"1\" class=\"dataframe\">\n",
       "  <thead>\n",
       "    <tr style=\"text-align: right;\">\n",
       "      <th></th>\n",
       "      <th>type</th>\n",
       "      <th>pH</th>\n",
       "      <th>alcohol</th>\n",
       "    </tr>\n",
       "  </thead>\n",
       "  <tbody>\n",
       "    <tr>\n",
       "      <th>3454</th>\n",
       "      <td>white</td>\n",
       "      <td>3.26</td>\n",
       "      <td>12.4</td>\n",
       "    </tr>\n",
       "    <tr>\n",
       "      <th>5376</th>\n",
       "      <td>red</td>\n",
       "      <td>3.14</td>\n",
       "      <td>10.2</td>\n",
       "    </tr>\n",
       "    <tr>\n",
       "      <th>2922</th>\n",
       "      <td>white</td>\n",
       "      <td>3.13</td>\n",
       "      <td>13.0</td>\n",
       "    </tr>\n",
       "    <tr>\n",
       "      <th>3991</th>\n",
       "      <td>white</td>\n",
       "      <td>2.99</td>\n",
       "      <td>9.2</td>\n",
       "    </tr>\n",
       "    <tr>\n",
       "      <th>3040</th>\n",
       "      <td>white</td>\n",
       "      <td>3.20</td>\n",
       "      <td>10.8</td>\n",
       "    </tr>\n",
       "  </tbody>\n",
       "</table>\n",
       "</div>"
      ],
      "text/plain": [
       "       type    pH  alcohol\n",
       "3454  white  3.26     12.4\n",
       "5376    red  3.14     10.2\n",
       "2922  white  3.13     13.0\n",
       "3991  white  2.99      9.2\n",
       "3040  white  3.20     10.8"
      ]
     },
     "execution_count": 187,
     "metadata": {},
     "output_type": "execute_result"
    }
   ],
   "source": [
    "\n",
    "df=pd.read_csv('winequalityN.csv',usecols=['type','pH','alcohol'])\n",
    "df.sample(5)\n"
   ]
  },
  {
   "cell_type": "code",
   "execution_count": 188,
   "id": "a1289328",
   "metadata": {},
   "outputs": [
    {
     "name": "stdout",
     "output_type": "stream",
     "text": [
      "<class 'pandas.core.frame.DataFrame'>\n",
      "Int64Index: 6488 entries, 0 to 6496\n",
      "Data columns (total 3 columns):\n",
      " #   Column   Non-Null Count  Dtype  \n",
      "---  ------   --------------  -----  \n",
      " 0   type     6488 non-null   object \n",
      " 1   pH       6488 non-null   float64\n",
      " 2   alcohol  6488 non-null   float64\n",
      "dtypes: float64(2), object(1)\n",
      "memory usage: 202.8+ KB\n"
     ]
    }
   ],
   "source": [
    "df.dropna(inplace=True)\n",
    "df.info()"
   ]
  },
  {
   "cell_type": "code",
   "execution_count": 189,
   "id": "9438def1",
   "metadata": {},
   "outputs": [
    {
     "data": {
      "text/html": [
       "<div>\n",
       "<style scoped>\n",
       "    .dataframe tbody tr th:only-of-type {\n",
       "        vertical-align: middle;\n",
       "    }\n",
       "\n",
       "    .dataframe tbody tr th {\n",
       "        vertical-align: top;\n",
       "    }\n",
       "\n",
       "    .dataframe thead th {\n",
       "        text-align: right;\n",
       "    }\n",
       "</style>\n",
       "<table border=\"1\" class=\"dataframe\">\n",
       "  <thead>\n",
       "    <tr style=\"text-align: right;\">\n",
       "      <th></th>\n",
       "      <th>pH</th>\n",
       "      <th>alcohol</th>\n",
       "    </tr>\n",
       "  </thead>\n",
       "  <tbody>\n",
       "    <tr>\n",
       "      <th>4257</th>\n",
       "      <td>2.96</td>\n",
       "      <td>12.0</td>\n",
       "    </tr>\n",
       "    <tr>\n",
       "      <th>5307</th>\n",
       "      <td>3.05</td>\n",
       "      <td>9.6</td>\n",
       "    </tr>\n",
       "    <tr>\n",
       "      <th>2767</th>\n",
       "      <td>3.12</td>\n",
       "      <td>9.5</td>\n",
       "    </tr>\n",
       "    <tr>\n",
       "      <th>2885</th>\n",
       "      <td>3.15</td>\n",
       "      <td>12.8</td>\n",
       "    </tr>\n",
       "    <tr>\n",
       "      <th>2877</th>\n",
       "      <td>2.97</td>\n",
       "      <td>9.3</td>\n",
       "    </tr>\n",
       "  </tbody>\n",
       "</table>\n",
       "</div>"
      ],
      "text/plain": [
       "        pH  alcohol\n",
       "4257  2.96     12.0\n",
       "5307  3.05      9.6\n",
       "2767  3.12      9.5\n",
       "2885  3.15     12.8\n",
       "2877  2.97      9.3"
      ]
     },
     "execution_count": 189,
     "metadata": {},
     "output_type": "execute_result"
    }
   ],
   "source": [
    "x=df.iloc[:,1:4]\n",
    "y=df.iloc[:,0]\n",
    "\n",
    "x.sample(5)"
   ]
  },
  {
   "cell_type": "code",
   "execution_count": 190,
   "id": "6bd34a08",
   "metadata": {},
   "outputs": [
    {
     "data": {
      "text/plain": [
       "0.7380585516178737"
      ]
     },
     "execution_count": 190,
     "metadata": {},
     "output_type": "execute_result"
    }
   ],
   "source": [
    "xtrain,xtest,ytrain,ytest=train_test_split(x,y,test_size=0.2,random_state=42)\n",
    "\n",
    "dtc=DecisionTreeClassifier()\n",
    "dtc.fit(xtrain,ytrain)\n",
    "\n",
    "ypred=dtc.predict(xtest)\n",
    "\n",
    "accuracy_score(ytest,ypred)\n"
   ]
  },
  {
   "cell_type": "code",
   "execution_count": 191,
   "id": "91c73687",
   "metadata": {},
   "outputs": [
    {
     "data": {
      "text/plain": [
       "0.6878906770149709"
      ]
     },
     "execution_count": 191,
     "metadata": {},
     "output_type": "execute_result"
    }
   ],
   "source": [
    "np.mean(cross_val_score(dtc,x,y,cv=10,scoring='accuracy'))"
   ]
  },
  {
   "cell_type": "code",
   "execution_count": 192,
   "id": "5b341ab0",
   "metadata": {},
   "outputs": [],
   "source": [
    "kb_ph=KBinsDiscretizer(n_bins=10,encode='ordinal',strategy='quantile')\n",
    "kb_al=KBinsDiscretizer(n_bins=10,encode='ordinal',strategy='quantile')\n",
    "\n",
    "# similarly for uniform and kmeans binning you just need to change the strategy"
   ]
  },
  {
   "cell_type": "code",
   "execution_count": 193,
   "id": "e87fbf3d",
   "metadata": {},
   "outputs": [],
   "source": [
    "trf=ColumnTransformer([\n",
    "    ('first',kb_ph,[0]),\n",
    "    ('second',kb_al,[1])\n",
    "])"
   ]
  },
  {
   "cell_type": "code",
   "execution_count": 194,
   "id": "3da30940",
   "metadata": {},
   "outputs": [
    {
     "data": {
      "text/plain": [
       "0.7665639445300462"
      ]
     },
     "execution_count": 194,
     "metadata": {},
     "output_type": "execute_result"
    }
   ],
   "source": [
    "xtrain_trf=trf.fit_transform(xtrain)\n",
    "xtest_trf=trf.transform(xtest)\n",
    "\n",
    "dtc.fit(xtrain_trf,ytrain)\n",
    "\n",
    "ypred=dtc.predict(xtest_trf)\n",
    "\n",
    "accuracy_score(ytest,ypred)\n",
    "\n",
    "# the accuracy will be more when compared with after and before transformation"
   ]
  },
  {
   "cell_type": "code",
   "execution_count": 195,
   "id": "c99fa3fb",
   "metadata": {},
   "outputs": [
    {
     "data": {
      "text/plain": [
       "0.6886610930396241"
      ]
     },
     "execution_count": 195,
     "metadata": {},
     "output_type": "execute_result"
    }
   ],
   "source": [
    "np.mean(cross_val_score(dtc,x,y,cv=10,scoring='accuracy'))"
   ]
  },
  {
   "cell_type": "markdown",
   "id": "877adec2",
   "metadata": {},
   "source": [
    "## 2.Binarization \n",
    "in descretization we convert contineous values in to discrete vales, in binarization we convert contineous values in to binary values (0 ,1)."
   ]
  },
  {
   "cell_type": "code",
   "execution_count": 196,
   "id": "146d6820",
   "metadata": {},
   "outputs": [],
   "source": [
    "ti=pd.read_csv('titanic.txt')[['Survived','SibSp','Parch','Age']]"
   ]
  },
  {
   "cell_type": "code",
   "execution_count": 197,
   "id": "5ab79169",
   "metadata": {},
   "outputs": [],
   "source": [
    "ti.dropna(inplace=True)"
   ]
  },
  {
   "cell_type": "code",
   "execution_count": 198,
   "id": "c3497b3d",
   "metadata": {},
   "outputs": [
    {
     "data": {
      "text/html": [
       "<div>\n",
       "<style scoped>\n",
       "    .dataframe tbody tr th:only-of-type {\n",
       "        vertical-align: middle;\n",
       "    }\n",
       "\n",
       "    .dataframe tbody tr th {\n",
       "        vertical-align: top;\n",
       "    }\n",
       "\n",
       "    .dataframe thead th {\n",
       "        text-align: right;\n",
       "    }\n",
       "</style>\n",
       "<table border=\"1\" class=\"dataframe\">\n",
       "  <thead>\n",
       "    <tr style=\"text-align: right;\">\n",
       "      <th></th>\n",
       "      <th>Survived</th>\n",
       "      <th>SibSp</th>\n",
       "      <th>Parch</th>\n",
       "      <th>Age</th>\n",
       "      <th>family</th>\n",
       "    </tr>\n",
       "  </thead>\n",
       "  <tbody>\n",
       "    <tr>\n",
       "      <th>0</th>\n",
       "      <td>0</td>\n",
       "      <td>1</td>\n",
       "      <td>0</td>\n",
       "      <td>22.0</td>\n",
       "      <td>1</td>\n",
       "    </tr>\n",
       "    <tr>\n",
       "      <th>1</th>\n",
       "      <td>1</td>\n",
       "      <td>1</td>\n",
       "      <td>0</td>\n",
       "      <td>38.0</td>\n",
       "      <td>1</td>\n",
       "    </tr>\n",
       "    <tr>\n",
       "      <th>2</th>\n",
       "      <td>1</td>\n",
       "      <td>0</td>\n",
       "      <td>0</td>\n",
       "      <td>26.0</td>\n",
       "      <td>0</td>\n",
       "    </tr>\n",
       "    <tr>\n",
       "      <th>3</th>\n",
       "      <td>1</td>\n",
       "      <td>1</td>\n",
       "      <td>0</td>\n",
       "      <td>35.0</td>\n",
       "      <td>1</td>\n",
       "    </tr>\n",
       "    <tr>\n",
       "      <th>4</th>\n",
       "      <td>0</td>\n",
       "      <td>0</td>\n",
       "      <td>0</td>\n",
       "      <td>35.0</td>\n",
       "      <td>0</td>\n",
       "    </tr>\n",
       "    <tr>\n",
       "      <th>...</th>\n",
       "      <td>...</td>\n",
       "      <td>...</td>\n",
       "      <td>...</td>\n",
       "      <td>...</td>\n",
       "      <td>...</td>\n",
       "    </tr>\n",
       "    <tr>\n",
       "      <th>885</th>\n",
       "      <td>0</td>\n",
       "      <td>0</td>\n",
       "      <td>5</td>\n",
       "      <td>39.0</td>\n",
       "      <td>5</td>\n",
       "    </tr>\n",
       "    <tr>\n",
       "      <th>886</th>\n",
       "      <td>0</td>\n",
       "      <td>0</td>\n",
       "      <td>0</td>\n",
       "      <td>27.0</td>\n",
       "      <td>0</td>\n",
       "    </tr>\n",
       "    <tr>\n",
       "      <th>887</th>\n",
       "      <td>1</td>\n",
       "      <td>0</td>\n",
       "      <td>0</td>\n",
       "      <td>19.0</td>\n",
       "      <td>0</td>\n",
       "    </tr>\n",
       "    <tr>\n",
       "      <th>889</th>\n",
       "      <td>1</td>\n",
       "      <td>0</td>\n",
       "      <td>0</td>\n",
       "      <td>26.0</td>\n",
       "      <td>0</td>\n",
       "    </tr>\n",
       "    <tr>\n",
       "      <th>890</th>\n",
       "      <td>0</td>\n",
       "      <td>0</td>\n",
       "      <td>0</td>\n",
       "      <td>32.0</td>\n",
       "      <td>0</td>\n",
       "    </tr>\n",
       "  </tbody>\n",
       "</table>\n",
       "<p>714 rows × 5 columns</p>\n",
       "</div>"
      ],
      "text/plain": [
       "     Survived  SibSp  Parch   Age  family\n",
       "0           0      1      0  22.0       1\n",
       "1           1      1      0  38.0       1\n",
       "2           1      0      0  26.0       0\n",
       "3           1      1      0  35.0       1\n",
       "4           0      0      0  35.0       0\n",
       "..        ...    ...    ...   ...     ...\n",
       "885         0      0      5  39.0       5\n",
       "886         0      0      0  27.0       0\n",
       "887         1      0      0  19.0       0\n",
       "889         1      0      0  26.0       0\n",
       "890         0      0      0  32.0       0\n",
       "\n",
       "[714 rows x 5 columns]"
      ]
     },
     "execution_count": 198,
     "metadata": {},
     "output_type": "execute_result"
    }
   ],
   "source": [
    "ti['family']=ti['SibSp']+ti['Parch']\n",
    "ti"
   ]
  },
  {
   "cell_type": "code",
   "execution_count": 199,
   "id": "f83020c8",
   "metadata": {},
   "outputs": [],
   "source": [
    "ti.drop(columns=['SibSp','Parch'],inplace=True)\n"
   ]
  },
  {
   "cell_type": "code",
   "execution_count": 200,
   "id": "c173b7d2",
   "metadata": {},
   "outputs": [],
   "source": [
    "a = ti.iloc[:,1:3]\n",
    "b = ti.iloc[:,0]"
   ]
  },
  {
   "cell_type": "code",
   "execution_count": 201,
   "id": "e48fd312",
   "metadata": {},
   "outputs": [],
   "source": [
    "xtrain,xtest,ytrain,ytest=train_test_split(a,b,test_size=0.2,random_state=42)"
   ]
  },
  {
   "cell_type": "code",
   "execution_count": 202,
   "id": "d36f39e0",
   "metadata": {},
   "outputs": [
    {
     "name": "stdout",
     "output_type": "stream",
     "text": [
      "0.5734265734265734\n",
      "0.5924491392801252\n"
     ]
    }
   ],
   "source": [
    "# before applying binarization\n",
    "\n",
    "clf = DecisionTreeClassifier()\n",
    "\n",
    "clf.fit(xtrain,ytrain)\n",
    "\n",
    "ypred = clf.predict(xtest)\n",
    "\n",
    "print(accuracy_score(ytest,ypred))\n",
    "print(np.mean(cross_val_score(DecisionTreeClassifier(),a,b,cv=10,scoring='accuracy')))\n"
   ]
  },
  {
   "cell_type": "code",
   "execution_count": 208,
   "id": "1d8f96a6",
   "metadata": {},
   "outputs": [],
   "source": [
    "# now will apply binarization\n",
    "# family is 1 when the family count is greatter or equal ot 1 then the value will and 0 if the family count is 0\n",
    "\n",
    "from sklearn.preprocessing import Binarizer\n",
    "\n",
    "tr = ColumnTransformer([\n",
    "    ('bin',Binarizer(copy=False),['family'])\n",
    "],remainder='passthrough')\n"
   ]
  },
  {
   "cell_type": "code",
   "execution_count": 211,
   "id": "d6eadee6",
   "metadata": {},
   "outputs": [
    {
     "data": {
      "text/html": [
       "<div>\n",
       "<style scoped>\n",
       "    .dataframe tbody tr th:only-of-type {\n",
       "        vertical-align: middle;\n",
       "    }\n",
       "\n",
       "    .dataframe tbody tr th {\n",
       "        vertical-align: top;\n",
       "    }\n",
       "\n",
       "    .dataframe thead th {\n",
       "        text-align: right;\n",
       "    }\n",
       "</style>\n",
       "<table border=\"1\" class=\"dataframe\">\n",
       "  <thead>\n",
       "    <tr style=\"text-align: right;\">\n",
       "      <th></th>\n",
       "      <th>Age</th>\n",
       "      <th>family</th>\n",
       "    </tr>\n",
       "  </thead>\n",
       "  <tbody>\n",
       "    <tr>\n",
       "      <th>0</th>\n",
       "      <td>1.0</td>\n",
       "      <td>31.0</td>\n",
       "    </tr>\n",
       "    <tr>\n",
       "      <th>1</th>\n",
       "      <td>1.0</td>\n",
       "      <td>26.0</td>\n",
       "    </tr>\n",
       "    <tr>\n",
       "      <th>2</th>\n",
       "      <td>1.0</td>\n",
       "      <td>30.0</td>\n",
       "    </tr>\n",
       "    <tr>\n",
       "      <th>3</th>\n",
       "      <td>0.0</td>\n",
       "      <td>33.0</td>\n",
       "    </tr>\n",
       "    <tr>\n",
       "      <th>4</th>\n",
       "      <td>0.0</td>\n",
       "      <td>25.0</td>\n",
       "    </tr>\n",
       "    <tr>\n",
       "      <th>...</th>\n",
       "      <td>...</td>\n",
       "      <td>...</td>\n",
       "    </tr>\n",
       "    <tr>\n",
       "      <th>566</th>\n",
       "      <td>1.0</td>\n",
       "      <td>46.0</td>\n",
       "    </tr>\n",
       "    <tr>\n",
       "      <th>567</th>\n",
       "      <td>0.0</td>\n",
       "      <td>25.0</td>\n",
       "    </tr>\n",
       "    <tr>\n",
       "      <th>568</th>\n",
       "      <td>0.0</td>\n",
       "      <td>41.0</td>\n",
       "    </tr>\n",
       "    <tr>\n",
       "      <th>569</th>\n",
       "      <td>1.0</td>\n",
       "      <td>33.0</td>\n",
       "    </tr>\n",
       "    <tr>\n",
       "      <th>570</th>\n",
       "      <td>0.0</td>\n",
       "      <td>33.0</td>\n",
       "    </tr>\n",
       "  </tbody>\n",
       "</table>\n",
       "<p>571 rows × 2 columns</p>\n",
       "</div>"
      ],
      "text/plain": [
       "     Age  family\n",
       "0    1.0    31.0\n",
       "1    1.0    26.0\n",
       "2    1.0    30.0\n",
       "3    0.0    33.0\n",
       "4    0.0    25.0\n",
       "..   ...     ...\n",
       "566  1.0    46.0\n",
       "567  0.0    25.0\n",
       "568  0.0    41.0\n",
       "569  1.0    33.0\n",
       "570  0.0    33.0\n",
       "\n",
       "[571 rows x 2 columns]"
      ]
     },
     "execution_count": 211,
     "metadata": {},
     "output_type": "execute_result"
    }
   ],
   "source": [
    "X_traintrf = tr.fit_transform(xtrain)\n",
    "X_testtrf = tr.transform(xtest)\n",
    "\n",
    "pd.DataFrame(X_traintrf,columns=['Age','family'])"
   ]
  },
  {
   "cell_type": "code",
   "execution_count": 214,
   "id": "e3d25136",
   "metadata": {},
   "outputs": [
    {
     "data": {
      "text/plain": [
       "0.5955232909860859"
      ]
     },
     "execution_count": 214,
     "metadata": {},
     "output_type": "execute_result"
    }
   ],
   "source": [
    "np.mean(cross_val_score(DecisionTreeClassifier(),X_traintrf,ytrain,cv=10,scoring='accuracy'))"
   ]
  },
  {
   "cell_type": "code",
   "execution_count": 205,
   "id": "8b803a57",
   "metadata": {},
   "outputs": [
    {
     "data": {
      "text/plain": [
       "0.5924491392801252"
      ]
     },
     "execution_count": 205,
     "metadata": {},
     "output_type": "execute_result"
    }
   ],
   "source": []
  },
  {
   "cell_type": "code",
   "execution_count": null,
   "id": "1f0bbefe",
   "metadata": {},
   "outputs": [],
   "source": []
  }
 ],
 "metadata": {
  "kernelspec": {
   "display_name": "Python 3 (ipykernel)",
   "language": "python",
   "name": "python3"
  },
  "language_info": {
   "codemirror_mode": {
    "name": "ipython",
    "version": 3
   },
   "file_extension": ".py",
   "mimetype": "text/x-python",
   "name": "python",
   "nbconvert_exporter": "python",
   "pygments_lexer": "ipython3",
   "version": "3.9.12"
  }
 },
 "nbformat": 4,
 "nbformat_minor": 5
}
