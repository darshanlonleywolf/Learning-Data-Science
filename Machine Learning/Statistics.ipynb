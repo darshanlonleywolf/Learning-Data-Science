{
 "cells": [
  {
   "cell_type": "code",
   "execution_count": 1,
   "id": "025c0cd9",
   "metadata": {},
   "outputs": [],
   "source": [
    "import pandas as pd\n",
    "import numpy as np\n",
    "import matplotlib.pyplot as plt\n",
    "import seaborn as sns\n",
    "from scipy import stats"
   ]
  },
  {
   "cell_type": "code",
   "execution_count": 2,
   "id": "64f72bed",
   "metadata": {},
   "outputs": [],
   "source": [
    "i=sns.load_dataset('iris')"
   ]
  },
  {
   "cell_type": "code",
   "execution_count": 3,
   "id": "289ac460",
   "metadata": {},
   "outputs": [
    {
     "data": {
      "text/html": [
       "<div>\n",
       "<style scoped>\n",
       "    .dataframe tbody tr th:only-of-type {\n",
       "        vertical-align: middle;\n",
       "    }\n",
       "\n",
       "    .dataframe tbody tr th {\n",
       "        vertical-align: top;\n",
       "    }\n",
       "\n",
       "    .dataframe thead th {\n",
       "        text-align: right;\n",
       "    }\n",
       "</style>\n",
       "<table border=\"1\" class=\"dataframe\">\n",
       "  <thead>\n",
       "    <tr style=\"text-align: right;\">\n",
       "      <th></th>\n",
       "      <th>sepal_length</th>\n",
       "      <th>sepal_width</th>\n",
       "      <th>petal_length</th>\n",
       "      <th>petal_width</th>\n",
       "      <th>species</th>\n",
       "    </tr>\n",
       "  </thead>\n",
       "  <tbody>\n",
       "    <tr>\n",
       "      <th>25</th>\n",
       "      <td>5.0</td>\n",
       "      <td>3.0</td>\n",
       "      <td>1.6</td>\n",
       "      <td>0.2</td>\n",
       "      <td>setosa</td>\n",
       "    </tr>\n",
       "    <tr>\n",
       "      <th>119</th>\n",
       "      <td>6.0</td>\n",
       "      <td>2.2</td>\n",
       "      <td>5.0</td>\n",
       "      <td>1.5</td>\n",
       "      <td>virginica</td>\n",
       "    </tr>\n",
       "    <tr>\n",
       "      <th>137</th>\n",
       "      <td>6.4</td>\n",
       "      <td>3.1</td>\n",
       "      <td>5.5</td>\n",
       "      <td>1.8</td>\n",
       "      <td>virginica</td>\n",
       "    </tr>\n",
       "    <tr>\n",
       "      <th>78</th>\n",
       "      <td>6.0</td>\n",
       "      <td>2.9</td>\n",
       "      <td>4.5</td>\n",
       "      <td>1.5</td>\n",
       "      <td>versicolor</td>\n",
       "    </tr>\n",
       "    <tr>\n",
       "      <th>117</th>\n",
       "      <td>7.7</td>\n",
       "      <td>3.8</td>\n",
       "      <td>6.7</td>\n",
       "      <td>2.2</td>\n",
       "      <td>virginica</td>\n",
       "    </tr>\n",
       "  </tbody>\n",
       "</table>\n",
       "</div>"
      ],
      "text/plain": [
       "     sepal_length  sepal_width  petal_length  petal_width     species\n",
       "25            5.0          3.0           1.6          0.2      setosa\n",
       "119           6.0          2.2           5.0          1.5   virginica\n",
       "137           6.4          3.1           5.5          1.8   virginica\n",
       "78            6.0          2.9           4.5          1.5  versicolor\n",
       "117           7.7          3.8           6.7          2.2   virginica"
      ]
     },
     "execution_count": 3,
     "metadata": {},
     "output_type": "execute_result"
    }
   ],
   "source": [
    "i.sample(5)"
   ]
  },
  {
   "cell_type": "code",
   "execution_count": 4,
   "id": "641dc39c",
   "metadata": {},
   "outputs": [],
   "source": [
    "d=i.rename(columns={'sepal_length':'sl','sepal_width':'sw','petal_length':'pl','petal_width':'pw'})"
   ]
  },
  {
   "cell_type": "code",
   "execution_count": 5,
   "id": "1d1eff78",
   "metadata": {},
   "outputs": [],
   "source": [
    "setosa=d[d['species']=='setosa']\n",
    "virg=d[d['species']=='virginica']\n",
    "versi=d[d['species']=='versicolor']"
   ]
  },
  {
   "cell_type": "code",
   "execution_count": 6,
   "id": "570524a1",
   "metadata": {},
   "outputs": [
    {
     "name": "stdout",
     "output_type": "stream",
     "text": [
      "5.005999999999999\n",
      "6.587999999999998\n"
     ]
    }
   ],
   "source": [
    "#sepal length\n",
    "print(np.mean(setosa['sl']))\n",
    "print(np.mean(virg['sl']))"
   ]
  },
  {
   "cell_type": "code",
   "execution_count": 7,
   "id": "ddfbe290",
   "metadata": {},
   "outputs": [
    {
     "name": "stdout",
     "output_type": "stream",
     "text": [
      "3.428000000000001\n",
      "2.9739999999999998\n"
     ]
    }
   ],
   "source": [
    "#sepal width\n",
    "print(np.mean(setosa['sw']))\n",
    "print(np.mean(virg['sw']))"
   ]
  },
  {
   "cell_type": "markdown",
   "id": "cbae6911",
   "metadata": {},
   "source": [
    "## due to outliers there will be a problem with the result (the result will be skewwed) therefore we use median in that case\n"
   ]
  },
  {
   "cell_type": "code",
   "execution_count": 8,
   "id": "d7d3165a",
   "metadata": {},
   "outputs": [
    {
     "name": "stdout",
     "output_type": "stream",
     "text": [
      "5.0\n",
      "6.5\n"
     ]
    }
   ],
   "source": [
    "# sepal length\n",
    "print(np.median(setosa['sl']))\n",
    "print(np.median(virg['sl']))"
   ]
  },
  {
   "cell_type": "code",
   "execution_count": 9,
   "id": "ad17972f",
   "metadata": {},
   "outputs": [],
   "source": [
    "# the mode is not there in numpy library, it is available in the scipy library"
   ]
  },
  {
   "cell_type": "code",
   "execution_count": 10,
   "id": "d3dec8c9",
   "metadata": {},
   "outputs": [
    {
     "name": "stdout",
     "output_type": "stream",
     "text": [
      "ModeResult(mode=array([1.4]), count=array([13]))\n"
     ]
    }
   ],
   "source": [
    "print(stats.mode(setosa['pl']))"
   ]
  },
  {
   "cell_type": "markdown",
   "id": "7218bce4",
   "metadata": {},
   "source": [
    "## measure of spread\n",
    "#### range, interquartile range, variance, standard deviation"
   ]
  },
  {
   "cell_type": "markdown",
   "id": "4fb953a5",
   "metadata": {},
   "source": [
    "## Range"
   ]
  },
  {
   "cell_type": "code",
   "execution_count": 11,
   "id": "c8fa9fbe",
   "metadata": {},
   "outputs": [
    {
     "data": {
      "text/plain": [
       "0.8999999999999999"
      ]
     },
     "execution_count": 11,
     "metadata": {},
     "output_type": "execute_result"
    }
   ],
   "source": [
    "r=np.max(setosa['pl'])-min(setosa['pl'])\n",
    "r"
   ]
  },
  {
   "cell_type": "markdown",
   "id": "36816313",
   "metadata": {},
   "source": [
    "## Perentile: a percentile measure used in statistics indicating the value below which a given percentage of obeservations in a group of observaions falls.\n",
    "\n"
   ]
  },
  {
   "cell_type": "code",
   "execution_count": 12,
   "id": "61ffca40",
   "metadata": {},
   "outputs": [
    {
     "name": "stdout",
     "output_type": "stream",
     "text": [
      "1.9\n",
      "2.8\n",
      "8.1\n"
     ]
    }
   ],
   "source": [
    "mylist=[1,2,3,4,5,6,7,7,8,9]\n",
    "\n",
    "print(np.percentile(mylist,10))  ## 10th percentile\n",
    "print(np.percentile(mylist,20))  ## 25th percentile\n",
    "print(np.percentile(mylist,90))  ## 90th percentile\n"
   ]
  },
  {
   "cell_type": "markdown",
   "id": "b79f6f02",
   "metadata": {},
   "source": [
    "## quartiles"
   ]
  },
  {
   "cell_type": "code",
   "execution_count": 13,
   "id": "7509b96a",
   "metadata": {},
   "outputs": [
    {
     "name": "stderr",
     "output_type": "stream",
     "text": [
      "C:\\Users\\darsh\\anaconda3\\lib\\site-packages\\seaborn\\_decorators.py:36: FutureWarning: Pass the following variable as a keyword arg: x. From version 0.12, the only valid positional argument will be `data`, and passing other arguments without an explicit keyword will result in an error or misinterpretation.\n",
      "  warnings.warn(\n"
     ]
    },
    {
     "data": {
      "text/plain": [
       "<AxesSubplot:xlabel='pl'>"
      ]
     },
     "execution_count": 13,
     "metadata": {},
     "output_type": "execute_result"
    },
    {
     "data": {
      "image/png": "[encoded data removed]",
      "text/plain": [
       "<Figure size 432x288 with 1 Axes>"
      ]
     },
     "metadata": {
      "needs_background": "light"
     },
     "output_type": "display_data"
    }
   ],
   "source": [
    "sns.boxplot(setosa['pl'],data=setosa)"
   ]
  },
  {
   "cell_type": "code",
   "execution_count": 14,
   "id": "3420103a",
   "metadata": {},
   "outputs": [
    {
     "name": "stdout",
     "output_type": "stream",
     "text": [
      "1.4\n",
      "1.5\n",
      "1.5750000000000002\n",
      "1.9\n"
     ]
    }
   ],
   "source": [
    "print(np.percentile(setosa['pl'],25))\n",
    "print(np.percentile(setosa['pl'],50))\n",
    "print(np.percentile(setosa['pl'],75))\n",
    "print(np.percentile(setosa['pl'],100))"
   ]
  },
  {
   "cell_type": "code",
   "execution_count": 15,
   "id": "c5992768",
   "metadata": {},
   "outputs": [
    {
     "name": "stdout",
     "output_type": "stream",
     "text": [
      "0.17500000000000027\n"
     ]
    }
   ],
   "source": [
    "#interquartile rage (q3-q1)\n",
    "print((np.percentile(setosa['pl'],75))-(np.percentile(setosa['pl'],25)))"
   ]
  },
  {
   "cell_type": "markdown",
   "id": "1eff4043",
   "metadata": {},
   "source": [
    "## Variance"
   ]
  },
  {
   "cell_type": "code",
   "execution_count": 16,
   "id": "6c9983c5",
   "metadata": {},
   "outputs": [
    {
     "data": {
      "text/plain": [
       "0.02955600000000001"
      ]
     },
     "execution_count": 16,
     "metadata": {},
     "output_type": "execute_result"
    }
   ],
   "source": [
    "np.var(setosa['pl'])"
   ]
  },
  {
   "cell_type": "markdown",
   "id": "dba9e3f4",
   "metadata": {},
   "source": [
    "## Standard deviation"
   ]
  },
  {
   "cell_type": "code",
   "execution_count": 17,
   "id": "d915e30d",
   "metadata": {},
   "outputs": [
    {
     "data": {
      "text/plain": [
       "0.17191858538273286"
      ]
     },
     "execution_count": 17,
     "metadata": {},
     "output_type": "execute_result"
    }
   ],
   "source": [
    "np.std(setosa['pl'])"
   ]
  },
  {
   "cell_type": "code",
   "execution_count": 18,
   "id": "35b6b8e5",
   "metadata": {},
   "outputs": [
    {
     "data": {
      "text/plain": [
       "0.14826022185056031"
      ]
     },
     "execution_count": 18,
     "metadata": {},
     "output_type": "execute_result"
    }
   ],
   "source": [
    "# mean absolute deviation\n",
    "\n",
    "from statsmodels import robust\n",
    "\n",
    "robust.mad(setosa['pl'])"
   ]
  },
  {
   "cell_type": "code",
   "execution_count": 19,
   "id": "a7979b53",
   "metadata": {},
   "outputs": [
    {
     "data": {
      "text/plain": [
       "<AxesSubplot:xlabel='species', ylabel='pl'>"
      ]
     },
     "execution_count": 19,
     "metadata": {},
     "output_type": "execute_result"
    },
    {
     "data": {
      "image/png": "[encoded data removed]",
      "text/plain": [
       "<Figure size 720x720 with 1 Axes>"
      ]
     },
     "metadata": {
      "needs_background": "light"
     },
     "output_type": "display_data"
    }
   ],
   "source": [
    "# box plot\n",
    "plt.figure(figsize=(10,10))\n",
    "sns.boxplot(x='species',y='pl',data=d)"
   ]
  },
  {
   "cell_type": "markdown",
   "id": "efe2edb4",
   "metadata": {},
   "source": [
    "## PDF(probability density function)"
   ]
  },
  {
   "cell_type": "code",
   "execution_count": 20,
   "id": "c46d0584",
   "metadata": {},
   "outputs": [
    {
     "name": "stderr",
     "output_type": "stream",
     "text": [
      "C:\\Users\\darsh\\anaconda3\\lib\\site-packages\\seaborn\\distributions.py:2619: FutureWarning: `distplot` is a deprecated function and will be removed in a future version. Please adapt your code to use either `displot` (a figure-level function with similar flexibility) or `histplot` (an axes-level function for histograms).\n",
      "  warnings.warn(msg, FutureWarning)\n"
     ]
    },
    {
     "data": {
      "text/plain": [
       "<AxesSubplot:xlabel='pl', ylabel='Density'>"
      ]
     },
     "execution_count": 20,
     "metadata": {},
     "output_type": "execute_result"
    },
    {
     "data": {
      "image/png": "[encoded data removed]",
      "text/plain": [
       "<Figure size 432x288 with 1 Axes>"
      ]
     },
     "metadata": {
      "needs_background": "light"
     },
     "output_type": "display_data"
    }
   ],
   "source": [
    "sns.distplot(setosa['pl'])"
   ]
  },
  {
   "cell_type": "code",
   "execution_count": 21,
   "id": "b95d4b39",
   "metadata": {},
   "outputs": [
    {
     "name": "stderr",
     "output_type": "stream",
     "text": [
      "C:\\Users\\darsh\\anaconda3\\lib\\site-packages\\seaborn\\distributions.py:2619: FutureWarning: `distplot` is a deprecated function and will be removed in a future version. Please adapt your code to use either `displot` (a figure-level function with similar flexibility) or `histplot` (an axes-level function for histograms).\n",
      "  warnings.warn(msg, FutureWarning)\n",
      "C:\\Users\\darsh\\anaconda3\\lib\\site-packages\\seaborn\\distributions.py:2619: FutureWarning: `distplot` is a deprecated function and will be removed in a future version. Please adapt your code to use either `displot` (a figure-level function with similar flexibility) or `histplot` (an axes-level function for histograms).\n",
      "  warnings.warn(msg, FutureWarning)\n",
      "C:\\Users\\darsh\\anaconda3\\lib\\site-packages\\seaborn\\distributions.py:2619: FutureWarning: `distplot` is a deprecated function and will be removed in a future version. Please adapt your code to use either `displot` (a figure-level function with similar flexibility) or `histplot` (an axes-level function for histograms).\n",
      "  warnings.warn(msg, FutureWarning)\n"
     ]
    },
    {
     "data": {
      "text/plain": [
       "<seaborn.axisgrid.FacetGrid at 0x226088552b0>"
      ]
     },
     "execution_count": 21,
     "metadata": {},
     "output_type": "execute_result"
    },
    {
     "data": {
      "image/png": "[encoded data removed]",
      "text/plain": [
       "<Figure size 588.75x504 with 1 Axes>"
      ]
     },
     "metadata": {
      "needs_background": "light"
     },
     "output_type": "display_data"
    }
   ],
   "source": [
    "sns.FacetGrid(d,hue='species',height=7).map(sns.distplot,'pl').add_legend()"
   ]
  },
  {
   "cell_type": "code",
   "execution_count": 22,
   "id": "383047a7",
   "metadata": {},
   "outputs": [
    {
     "name": "stderr",
     "output_type": "stream",
     "text": [
      "C:\\Users\\darsh\\anaconda3\\lib\\site-packages\\seaborn\\distributions.py:2619: FutureWarning: `distplot` is a deprecated function and will be removed in a future version. Please adapt your code to use either `displot` (a figure-level function with similar flexibility) or `histplot` (an axes-level function for histograms).\n",
      "  warnings.warn(msg, FutureWarning)\n",
      "C:\\Users\\darsh\\anaconda3\\lib\\site-packages\\seaborn\\distributions.py:2619: FutureWarning: `distplot` is a deprecated function and will be removed in a future version. Please adapt your code to use either `displot` (a figure-level function with similar flexibility) or `histplot` (an axes-level function for histograms).\n",
      "  warnings.warn(msg, FutureWarning)\n",
      "C:\\Users\\darsh\\anaconda3\\lib\\site-packages\\seaborn\\distributions.py:2619: FutureWarning: `distplot` is a deprecated function and will be removed in a future version. Please adapt your code to use either `displot` (a figure-level function with similar flexibility) or `histplot` (an axes-level function for histograms).\n",
      "  warnings.warn(msg, FutureWarning)\n"
     ]
    },
    {
     "data": {
      "text/plain": [
       "<seaborn.axisgrid.FacetGrid at 0x22608eceb50>"
      ]
     },
     "execution_count": 22,
     "metadata": {},
     "output_type": "execute_result"
    },
    {
     "data": {
      "image/png": "[encoded data removed]",
      "text/plain": [
       "<Figure size 588.75x504 with 1 Axes>"
      ]
     },
     "metadata": {
      "needs_background": "light"
     },
     "output_type": "display_data"
    }
   ],
   "source": [
    "sns.FacetGrid(d,hue='species',height=7).map(sns.distplot,'pl',kde=False).add_legend()"
   ]
  },
  {
   "cell_type": "code",
   "execution_count": 23,
   "id": "d0884a63",
   "metadata": {},
   "outputs": [
    {
     "name": "stderr",
     "output_type": "stream",
     "text": [
      "C:\\Users\\darsh\\anaconda3\\lib\\site-packages\\seaborn\\distributions.py:2619: FutureWarning: `distplot` is a deprecated function and will be removed in a future version. Please adapt your code to use either `displot` (a figure-level function with similar flexibility) or `kdeplot` (an axes-level function for kernel density plots).\n",
      "  warnings.warn(msg, FutureWarning)\n",
      "C:\\Users\\darsh\\anaconda3\\lib\\site-packages\\seaborn\\distributions.py:2619: FutureWarning: `distplot` is a deprecated function and will be removed in a future version. Please adapt your code to use either `displot` (a figure-level function with similar flexibility) or `kdeplot` (an axes-level function for kernel density plots).\n",
      "  warnings.warn(msg, FutureWarning)\n",
      "C:\\Users\\darsh\\anaconda3\\lib\\site-packages\\seaborn\\distributions.py:2619: FutureWarning: `distplot` is a deprecated function and will be removed in a future version. Please adapt your code to use either `displot` (a figure-level function with similar flexibility) or `kdeplot` (an axes-level function for kernel density plots).\n",
      "  warnings.warn(msg, FutureWarning)\n"
     ]
    },
    {
     "data": {
      "text/plain": [
       "<seaborn.axisgrid.FacetGrid at 0x22608ecef70>"
      ]
     },
     "execution_count": 23,
     "metadata": {},
     "output_type": "execute_result"
    },
    {
     "data": {
      "image/png": "[encoded data removed]",
      "text/plain": [
       "<Figure size 588.75x504 with 1 Axes>"
      ]
     },
     "metadata": {
      "needs_background": "light"
     },
     "output_type": "display_data"
    }
   ],
   "source": [
    "sns.FacetGrid(d,hue='species',height=7).map(sns.distplot,'sl', hist=False).add_legend()"
   ]
  },
  {
   "cell_type": "markdown",
   "id": "673f23f1",
   "metadata": {},
   "source": [
    "## CDF(cumulative distributive function)"
   ]
  },
  {
   "cell_type": "code",
   "execution_count": 41,
   "id": "2a7e16b3",
   "metadata": {},
   "outputs": [],
   "source": [
    "count, bin_edges=np.histogram(setosa['sl'], bins=12)"
   ]
  },
  {
   "cell_type": "code",
   "execution_count": 42,
   "id": "07dd9fa5",
   "metadata": {},
   "outputs": [
    {
     "name": "stdout",
     "output_type": "stream",
     "text": [
      "[4 1 4 2 9 8 8 3 6 2 0 3]\n",
      "[4.3   4.425 4.55  4.675 4.8   4.925 5.05  5.175 5.3   5.425 5.55  5.675\n",
      " 5.8  ]\n"
     ]
    }
   ],
   "source": [
    "print(count)\n",
    "print(bin_edges)"
   ]
  },
  {
   "cell_type": "code",
   "execution_count": 43,
   "id": "65935a90",
   "metadata": {},
   "outputs": [
    {
     "name": "stdout",
     "output_type": "stream",
     "text": [
      "[0.08 0.02 0.08 0.04 0.18 0.16 0.16 0.06 0.12 0.04 0.   0.06]\n",
      "[0.08 0.1  0.18 0.22 0.4  0.56 0.72 0.78 0.9  0.94 0.94 1.  ]\n"
     ]
    }
   ],
   "source": [
    "pdf=count/sum(count)\n",
    "cdf=np.cumsum(pdf)\n",
    "\n",
    "print(pdf)\n",
    "print(cdf)"
   ]
  },
  {
   "cell_type": "code",
   "execution_count": 44,
   "id": "fe1fe733",
   "metadata": {},
   "outputs": [
    {
     "data": {
      "text/plain": [
       "[<matplotlib.lines.Line2D at 0x2260b0fc4f0>]"
      ]
     },
     "execution_count": 44,
     "metadata": {},
     "output_type": "execute_result"
    },
    {
     "data": {
      "image/png": "[encoded data removed]",
      "text/plain": [
       "<Figure size 432x288 with 1 Axes>"
      ]
     },
     "metadata": {
      "needs_background": "light"
     },
     "output_type": "display_data"
    }
   ],
   "source": [
    "plt.plot(bin_edges[1:],pdf)\n",
    "plt.plot(bin_edges[1:],cdf)"
   ]
  },
  {
   "cell_type": "code",
   "execution_count": null,
   "id": "1279cab0",
   "metadata": {},
   "outputs": [],
   "source": []
  }
 ],
 "metadata": {
  "kernelspec": {
   "display_name": "Python 3 (ipykernel)",
   "language": "python",
   "name": "python3"
  },
  "language_info": {
   "codemirror_mode": {
    "name": "ipython",
    "version": 3
   },
   "file_extension": ".py",
   "mimetype": "text/x-python",
   "name": "python",
   "nbconvert_exporter": "python",
   "pygments_lexer": "ipython3",
   "version": "3.9.12"
  }
 },
 "nbformat": 4,
 "nbformat_minor": 5
}
